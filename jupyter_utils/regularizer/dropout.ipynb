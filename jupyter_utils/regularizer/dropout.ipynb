{
 "cells": [
  {
   "cell_type": "code",
   "execution_count": 1,
   "metadata": {},
   "outputs": [
    {
     "name": "stdout",
     "output_type": "stream",
     "text": [
      "[4 4]\n",
      "[[ 2.  0.  0.  8.]\n",
      " [ 0. 12.  0. 16.]\n",
      " [ 0.  0.  0. 24.]\n",
      " [26.  0.  0. 32.]]\n",
      "[[0. 0. 0. 0.]\n",
      " [0. 0. 0. 0.]\n",
      " [0. 0. 0. 0.]\n",
      " [0. 0. 0. 0.]]\n",
      "[[ 2.  4.  6.  8.]\n",
      " [10. 12. 14. 16.]\n",
      " [18. 20. 22. 24.]\n",
      " [26. 28. 30. 32.]]\n"
     ]
    }
   ],
   "source": [
    "import tensorflow as tf\n",
    "\n",
    "with tf.Session() as sess:\n",
    "    sess.run(tf.global_variables_initializer())\n",
    "    d = tf.constant([[1.,2.,3.,4.],[5.,6.,7.,8.],[9.,10.,11.,12.],[13.,14.,15.,16.]])\n",
    "    print(sess.run(tf.shape(d)))\n",
    "\n",
    "    #由于[4,4] == [4,4] 行和列都为独立\n",
    "    dropout_a44 = tf.nn.dropout(d, 0.5, noise_shape = [4,4])\n",
    "    result_dropout_a44 = sess.run(dropout_a44)\n",
    "    print(result_dropout_a44)\n",
    "\n",
    "    #noise_shpae[0]=4 == tf.shape(d)[0]=4  \n",
    "    #noise_shpae[1]=4 != tf.shape(d)[1]=1\n",
    "    #所以[0]即行独立，[1]即列相关，每个行同为0或同不为0\n",
    "    dropout_a41 = tf.nn.dropout(d, 0.5, noise_shape = [4,1])\n",
    "    result_dropout_a41 = sess.run(dropout_a41)\n",
    "    print(result_dropout_a41)\n",
    "\n",
    "    #noise_shpae[0]=1 ！= tf.shape(d)[0]=4  \n",
    "    #noise_shpae[1]=4 == tf.shape(d)[1]=4\n",
    "    #所以[1]即列独立，[0]即行相关，每个列同为0或同不为0\n",
    "    dropout_a24 = tf.nn.dropout(d, 0.5, noise_shape = [1,4])\n",
    "    result_dropout_a24 = sess.run(dropout_a24)\n",
    "    print(result_dropout_a24)\n",
    "    #不相等的noise_shape只能为1"
   ]
  }
 ],
 "metadata": {
  "kernelspec": {
   "display_name": "py36",
   "language": "python",
   "name": "python3"
  },
  "language_info": {
   "codemirror_mode": {
    "name": "ipython",
    "version": 3
   },
   "file_extension": ".py",
   "mimetype": "text/x-python",
   "name": "python",
   "nbconvert_exporter": "python",
   "pygments_lexer": "ipython3",
   "version": "3.6.13"
  },
  "orig_nbformat": 4
 },
 "nbformat": 4,
 "nbformat_minor": 2
}
