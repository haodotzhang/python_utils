{
 "cells": [
  {
   "cell_type": "code",
   "execution_count": null,
   "metadata": {},
   "outputs": [],
   "source": [
    "# 常用api测试"
   ]
  },
  {
   "cell_type": "code",
   "execution_count": 1,
   "metadata": {},
   "outputs": [],
   "source": [
    "import tensorflow as tf \n",
    "from tensorflow.python.ops import nn \n",
    "\n",
    "\n",
    "def listwise_softmax_cross_entropy3(session_id, labels, logits, weights=None, sample_mask=None, logits_weight=1.0):\n",
    "    _EPSILON = 1e-10\n",
    "    if sample_mask is not None:\n",
    "        session_id = tf.reshape(tf.boolean_mask(session_id, sample_mask), [-1, 1])\n",
    "        labels = tf.reshape(tf.boolean_mask(labels, sample_mask), [-1, 1])\n",
    "        logits = tf.reshape(tf.boolean_mask(logits, sample_mask), [-1, 1])\n",
    "        if weights is not None:\n",
    "            weights = tf.reshape(tf.boolean_mask(weights, sample_mask), [-1, 1])\n",
    "\n",
    "    session_mask = tf.equal(session_id, tf.transpose(session_id))\n",
    "    session_mask_f = tf.cast(session_mask, tf.float32)\n",
    "\n",
    "    logits = tf.reshape(logits, [-1, 1])\n",
    "    logits_bb = logits - tf.zeros_like(tf.transpose(logits))\n",
    "    logits_final = tf.where(session_mask, logits_bb, tf.log(_EPSILON) * tf.ones_like(logits_bb))\n",
    "    \n",
    "    labels = tf.reshape(labels, [-1, 1])\n",
    "    labels_bb = labels - tf.zeros_like(tf.transpose(labels))\n",
    "    labels_final = tf.where(session_mask, labels_bb, tf.zeros_like(labels_bb))\n",
    "\n",
    "    if weights is not None:\n",
    "        weights = tf.reshape(weights, [-1, 1])\n",
    "        weights_bb = weights - tf.zeros_like(tf.transpose(weights))\n",
    "        weights_final = tf.where(session_mask, weights_bb, tf.zeros_like(weights_bb))\n",
    "    else:\n",
    "        weights_final = tf.ones_like(labels_final)\n",
    "\n",
    "    label_sum = tf.reduce_sum(input_tensor=labels_final, axis=0, keep_dims=True)\n",
    "    nonzero_mask = tf.greater(tf.reshape(label_sum, \n",
    "[-1]\n",
    "), 0.0)\n",
    "    padded_labels = tf.where(nonzero_mask, labels_final, _EPSILON * tf.ones_like(labels_final)) * session_mask_f\n",
    "    padded_label_sum = tf.reduce_sum(input_tensor=padded_labels, axis=0, keep_dims=True)\n",
    "    normalized_labels = padded_labels / padded_label_sum\n",
    "\n",
    "    exps = tf.exp(logits_weight * logits_final) * session_mask_f\n",
    "    softmax = tf.div_no_nan(exps, tf.reduce_sum(exps, axis=0))\n",
    "    losses = -tf.reduce_sum(normalized_labels * tf.log(softmax + _EPSILON) * weights_final * session_mask_f, axis=0)\n",
    "\n",
    "    per_row_weights = tf.reduce_sum(session_mask_f, axis=1)\n",
    "    session_cnt = tf.reduce_sum(1.0 / per_row_weights)\n",
    "    listwise_loss = tf.reduce_sum(losses / per_row_weights) / session_cnt\n",
    "\n",
    "    return listwise_loss\n"
   ]
  }
 ],
 "metadata": {
  "kernelspec": {
   "display_name": "py36",
   "language": "python",
   "name": "python3"
  },
  "language_info": {
   "codemirror_mode": {
    "name": "ipython",
    "version": 3
   },
   "file_extension": ".py",
   "mimetype": "text/x-python",
   "name": "python",
   "nbconvert_exporter": "python",
   "pygments_lexer": "ipython3",
   "version": "3.6.13"
  },
  "orig_nbformat": 4
 },
 "nbformat": 4,
 "nbformat_minor": 2
}
