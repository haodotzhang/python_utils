{
 "cells": [
  {
   "cell_type": "code",
   "execution_count": null,
   "metadata": {},
   "outputs": [],
   "source": [
    "# 常用api测试"
   ]
  },
  {
   "cell_type": "code",
   "execution_count": 1,
   "metadata": {},
   "outputs": [],
   "source": [
    "import tensorflow as tf \n",
    "from tensorflow.python.ops import nn \n",
    "\n",
    "def pairwise_cross_entropy_v2(\n",
    "    session_id, labels, logits,\n",
    "    weights=1.0, use_weight=False,\n",
    "    margin=10.0, use_margin=True,\n",
    "    add_batchin_neg=False, sample_mask=None, ts=None):\n",
    "    if sample_mask is not None:\n",
    "        session_id = tf.reshape(tf.boolean_mask(session_id, sample_mask), [-1, 1])\n",
    "        labels = tf.reshape(tf.boolean_mask(labels, sample_mask), [-1, 1])\n",
    "        logits = tf.reshape(tf.boolean_mask(logits, sample_mask), [-1, 1])\n",
    "        weights = tf.reshape(tf.boolean_mask(weights, sample_mask), [-1, 1])\n",
    "\n",
    "    session_mask = tf.cast(tf.equal(session_id, tf.transpose(session_id)), tf.float32)\n",
    "    session_mask = session_mask - tf.matrix_diag(tf.diag_part(session_mask))\n",
    "\n",
    "    if add_batchin_neg:\n",
    "        session_outer_mask = tf.transpose(tf.random_shuffle(tf.transpose(session_mask)))\n",
    "        session_mask = session_mask + session_outer_mask\n",
    "        session_mask = session_mask - tf.matrix_diag(tf.diag_part(session_mask))\n",
    "\n",
    "    labels_mask = tf.greater(labels - tf.transpose(labels), 0)\n",
    "    ts_mask = tf.greater(ts - tf.transpose(ts), 0)\n",
    "    labels_mask = tf.logical_or(labels_mask, ts_mask) \n",
    "    labels_mask = tf.cast(labels_mask, tf.float32)\n",
    "    final_mask = tf.multiply(session_mask, labels_mask)\n",
    "\n",
    "    logits_mat = logits - tf.transpose(logits)\n",
    "    if use_margin:\n",
    "        logits_mask = tf.cast(tf.less(logits_mat, margin), tf.float32)\n",
    "        final_mask = tf.multiply(final_mask, logits_mask)\n",
    "\n",
    "    final_mask = tf.cast(final_mask, tf.bool)\n",
    "    logits_mat_valid = tf.boolean_mask(logits_mat, final_mask)\n",
    "\n",
    "    if use_weight:\n",
    "        weights_mat = tf.abs(weights - tf.transpose(weights))\n",
    "        weights = tf.boolean_mask(weights_mat, final_mask)\n",
    "    else:\n",
    "        weights = tf.ones_like(logits_mat_valid)\n",
    "\n",
    "    labels_mat_psudo = tf.ones_like(logits_mat_valid)\n",
    "\n",
    "    loss = tf.losses.sigmoid_cross_entropy(\n",
    "        multi_class_labels=labels_mat_psudo, logits=logits_mat_valid, weights=weights)\n",
    "    loss = tf.where(tf.is_nan(loss), tf.zeros_like(loss), loss)\n",
    "\n",
    "    return loss\n"
   ]
  },
  {
   "cell_type": "code",
   "execution_count": null,
   "metadata": {},
   "outputs": [],
   "source": [
    "def weighted_gauc_loss(utdid_tensor, ts_tensor, label_tensor, logit_tensor, use_weight=False, alpha=1.0,\n",
    "                       epsilon=1E-6):\n",
    "    utdid_mask = tf.cast(tf.equal(utdid_tensor, tf.transpose(utdid_tensor)), tf.float32)\n",
    "    utdid_mask = utdid_mask - tf.matrix_diag(tf.diag_part(utdid_mask))\n",
    "\n",
    "    label_mask = 1 - tf.cast(tf.equal(label_tensor, tf.transpose(label_tensor)), tf.float32)\n",
    "    label_mask = label_mask - tf.matrix_diag(tf.diag_part(label_mask))\n",
    "\n",
    "    final_mask = tf.multiply(utdid_mask, label_mask)\n",
    "\n",
    "    prob_mat = tf.sigmoid(logit_tensor - tf.transpose(logit_tensor))\n",
    "    ts_mat = alpha * tf.abs(ts_tensor - tf.transpose(ts_tensor)) + 1.0\n",
    "    label_mat = (label_tensor - tf.transpose(label_tensor) + 1.0) / 2.0\n",
    "\n",
    "    final_weight = final_mask\n",
    "\n",
    "    ent_mat = -tf.multiply(label_mat, tf.log(prob_mat + epsilon)) - tf.multiply(\n",
    "        (1 - label_mat), tf.log(1 - prob_mat + epsilon)) # 手写 二分类的celoss\n",
    "    if use_weight:\n",
    "        final_weight = tf.multiply(final_mask, ts_mat)\n",
    "\n",
    "    return tf.reduce_sum(tf.multiply(ent_mat, final_weight)) / (tf.reduce_sum(final_mask) + epsilon) # 对多个样本的celoss做reduce\n"
   ]
  }
 ],
 "metadata": {
  "kernelspec": {
   "display_name": "py36",
   "language": "python",
   "name": "python3"
  },
  "language_info": {
   "codemirror_mode": {
    "name": "ipython",
    "version": 3
   },
   "file_extension": ".py",
   "mimetype": "text/x-python",
   "name": "python",
   "nbconvert_exporter": "python",
   "pygments_lexer": "ipython3",
   "version": "3.6.13"
  },
  "orig_nbformat": 4
 },
 "nbformat": 4,
 "nbformat_minor": 2
}
