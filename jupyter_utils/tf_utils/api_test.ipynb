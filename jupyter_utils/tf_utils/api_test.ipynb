{
 "cells": [
  {
   "cell_type": "code",
   "execution_count": 1,
   "metadata": {},
   "outputs": [
    {
     "name": "stdout",
     "output_type": "stream",
     "text": [
      "a:  [ 7 19]\n",
      "a1:  [ 7 19  7 19  7 19]\n",
      "b:  [[4 5]\n",
      " [3 5]]\n",
      "b1:  [[4 5 4 5 4 5]\n",
      " [3 5 3 5 3 5]\n",
      " [4 5 4 5 4 5]\n",
      " [3 5 3 5 3 5]]\n"
     ]
    }
   ],
   "source": [
    "# 1）测试tf.tile\n",
    "import tensorflow as tf\n",
    "a = tf.constant([7,19])\n",
    "a1 = tf.tile(a, multiples=[3]) # 第一个维度复制3遍, (1,2)=>(1,6)\n",
    "b = tf.constant([[4,5], [3,5]])\n",
    "b1 = tf.tile(b, multiples=[2,3]) # 第一个维度复制2遍，第二个维度复制3遍, (2,2)=>(4,6)\n",
    "\n",
    "with tf.Session() as sess:\n",
    "    a_out = sess.run(a)\n",
    "    a1_out = sess.run(a1)\n",
    "    b_out = sess.run(b)\n",
    "    b1_out = sess.run(b1)\n",
    "    print(\"a: \", a_out)\n",
    "    print(\"a1: \", a1_out)\n",
    "    print(\"b: \", b_out)\n",
    "    print(\"b1: \", b1_out)"
   ]
  },
  {
   "cell_type": "code",
   "execution_count": 2,
   "metadata": {},
   "outputs": [
    {
     "name": "stdout",
     "output_type": "stream",
     "text": [
      "e1~e6: \n",
      "[1, 2] \n",
      "[2, 1] \n",
      "[2, 1] \n",
      "[1, 2, 3, 5] \n",
      "[2, 3, 1, 5] \n",
      "[2, 3, 5, 1]\n"
     ]
    }
   ],
   "source": [
    "# 2) 测试 tf.expand_dims\n",
    "import tensorflow as tf\n",
    "\n",
    "t = tf.constant([7,19]) #shape: (2,)\n",
    "e1 = tf.expand_dims(t,0).shape.as_list() # (1,2) # 第0维扩展\n",
    "e2 = tf.expand_dims(t,1).shape.as_list() # (2,1) # 第1维扩展\n",
    "e3 = tf.expand_dims(t,-1).shape.as_list() # (2,1)\n",
    "\n",
    "t2 = tf.Variable(tf.ones([2,3,5], dtype=tf.float32)) #shape: (2,3,5)\n",
    "e4 = tf.expand_dims(t2,0).shape.as_list() # (1,2,3,5) \n",
    "e5 = tf.expand_dims(t2,2).shape.as_list() # (2,3,1,5) \n",
    "e6 = tf.expand_dims(t2,3).shape.as_list() # (2,3,5,1)\n",
    "\n",
    "print(\"e1~e6: \\n{} \\n{} \\n{} \\n{} \\n{} \\n{}\".format(e1, e2, e3, e4, e5, e6))"
   ]
  },
  {
   "cell_type": "code",
   "execution_count": 3,
   "metadata": {},
   "outputs": [
    {
     "name": "stdout",
     "output_type": "stream",
     "text": [
      "s0~s2: \n",
      "[1, 2, 1, 3, 1, 1] \n",
      "[2, 3] \n",
      "[1, 2, 3, 1]\n"
     ]
    }
   ],
   "source": [
    "# 3) 测试 tf.squeeze\n",
    "import tensorflow as tf \n",
    "\n",
    "t = tf.Variable(tf.ones([1,2,1,3,1,1]), dtype=tf.float32)\n",
    "s0 = t.shape.as_list() # (1,2,1,3,1,1)\n",
    "s1 = tf.squeeze(t).shape.as_list() # 去除所有维度的冗余dim => (2,3)\n",
    "s2 = tf.squeeze(t, [2,4]).shape.as_list() # 去除2和4维度的1 => (1,2,3,1)\n",
    "\n",
    "print(\"s0~s2: \\n{} \\n{} \\n{}\".format(s0, s1, s2))"
   ]
  }
 ],
 "metadata": {
  "kernelspec": {
   "display_name": "py36",
   "language": "python",
   "name": "python3"
  },
  "language_info": {
   "codemirror_mode": {
    "name": "ipython",
    "version": 3
   },
   "file_extension": ".py",
   "mimetype": "text/x-python",
   "name": "python",
   "nbconvert_exporter": "python",
   "pygments_lexer": "ipython3",
   "version": "3.6.13"
  },
  "orig_nbformat": 4
 },
 "nbformat": 4,
 "nbformat_minor": 2
}
