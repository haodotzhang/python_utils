{
 "cells": [
  {
   "cell_type": "code",
   "execution_count": 1,
   "metadata": {},
   "outputs": [
    {
     "name": "stdout",
     "output_type": "stream",
     "text": [
      "the result of relu(a) is : \n",
      "[[1. 2.]\n",
      " [5. 0.]]\n",
      "the result of sigmoid(a) is : \n",
      "[[0.7310586  0.880797  ]\n",
      " [0.9933072  0.11920292]]\n",
      "the result of tanh(a) is : \n",
      "[[ 0.7615942   0.9640276 ]\n",
      " [ 0.99990916 -0.9640276 ]]\n"
     ]
    }
   ],
   "source": [
    "import tensorflow as tf\n",
    "a = tf.constant([[1.,2.],[5.,-2.]])\n",
    "relu_a = tf.nn.relu(a)\n",
    "sigmoid_a = tf.nn.sigmoid(a)\n",
    "tanh_a = tf.nn.tanh(a)\n",
    "\n",
    "with tf.Session() as sess:\n",
    "    sess.run(tf.global_variables_initializer())\n",
    "    result_relu_a = sess.run(relu_a)\n",
    "    result_sigmoid_a = sess.run(sigmoid_a)\n",
    "    result_tanh_a = sess.run(tanh_a)\n",
    "    print('the result of relu(a) is : \\n{}'.format(result_relu_a))\n",
    "    print('the result of sigmoid(a) is : \\n{}'.format(result_sigmoid_a))\n",
    "    print('the result of tanh(a) is : \\n{}'.format(result_tanh_a))"
   ]
  }
 ],
 "metadata": {
  "kernelspec": {
   "display_name": "py36",
   "language": "python",
   "name": "python3"
  },
  "language_info": {
   "codemirror_mode": {
    "name": "ipython",
    "version": 3
   },
   "file_extension": ".py",
   "mimetype": "text/x-python",
   "name": "python",
   "nbconvert_exporter": "python",
   "pygments_lexer": "ipython3",
   "version": "3.6.13"
  },
  "orig_nbformat": 4
 },
 "nbformat": 4,
 "nbformat_minor": 2
}
