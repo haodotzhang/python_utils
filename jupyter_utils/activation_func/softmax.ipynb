{
 "cells": [
  {
   "cell_type": "code",
   "execution_count": 6,
   "metadata": {},
   "outputs": [
    {
     "name": "stdout",
     "output_type": "stream",
     "text": [
      "rand_tensor:\n",
      " [[[ 0.94916886  0.16764274  0.95155317]\n",
      "  [ 1.1069479  -1.1047778   0.46299726]]\n",
      "\n",
      " [[ 0.38737515 -0.58832234 -1.3313001 ]\n",
      "  [-0.18981606 -0.02731347 -1.0182445 ]]]\n",
      "\n",
      "\n",
      "sg_1:\n",
      " [[[0.63686746 0.680477   0.907447  ]\n",
      "  [0.7852898  0.25398618 0.81476   ]]\n",
      "\n",
      " [[0.36313254 0.31952292 0.09255303]\n",
      "  [0.21471016 0.7460139  0.18523994]]]\n",
      "\n",
      "\n",
      "sg_2:\n",
      " [[[0.63686746 0.680477   0.907447  ]\n",
      "  [0.7852898  0.25398618 0.81476   ]]\n",
      "\n",
      " [[0.36313254 0.31952292 0.09255303]\n",
      "  [0.21471016 0.7460139  0.18523994]]]\n",
      "\n",
      "\n",
      "sg_3:\n",
      " [[[0.63686746 0.680477   0.907447  ]\n",
      "  [0.7852898  0.25398618 0.81476   ]]\n",
      "\n",
      " [[0.36313254 0.31952292 0.09255303]\n",
      "  [0.21471016 0.7460139  0.18523994]]]\n",
      "\n",
      "\n"
     ]
    }
   ],
   "source": [
    "# ref: https://www.zhihu.com/question/456213566/answer/2518011810\n",
    "import tensorflow as tf\n",
    "\n",
    "rand_tensor = tf.random.normal(shape=[2, 2, 3])\n",
    "sg_1 = tf.nn.softmax(rand_tensor, axis=0)\n",
    "sg_2 = tf.nn.softmax(rand_tensor, axis=1)\n",
    "sg_3 = tf.nn.softmax(rand_tensor, axis=2)\n",
    "\n",
    "with tf.Session() as sess:\n",
    "    rand_tensor, sg_1, sg_2, sg_3 = sess.run([rand_tensor, sg_1, sg_2, sg_3])\n",
    "    print(\"rand_tensor:\\n\", rand_tensor)\n",
    "    print(\"\\n\")\n",
    "    print(\"sg_1:\\n\", sg_1)\n",
    "    print(\"\\n\")\n",
    "    print(\"sg_2:\\n\", sg_1)\n",
    "    print(\"\\n\")\n",
    "    print(\"sg_3:\\n\", sg_1)\n",
    "    print(\"\\n\")"
   ]
  }
 ],
 "metadata": {
  "kernelspec": {
   "display_name": "py36",
   "language": "python",
   "name": "python3"
  },
  "language_info": {
   "codemirror_mode": {
    "name": "ipython",
    "version": 3
   },
   "file_extension": ".py",
   "mimetype": "text/x-python",
   "name": "python",
   "nbconvert_exporter": "python",
   "pygments_lexer": "ipython3",
   "version": "3.6.13"
  },
  "orig_nbformat": 4
 },
 "nbformat": 4,
 "nbformat_minor": 2
}
