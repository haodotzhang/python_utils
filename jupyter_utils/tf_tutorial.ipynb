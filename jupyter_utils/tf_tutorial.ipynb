{
 "cells": [
  {
   "cell_type": "code",
   "execution_count": 6,
   "metadata": {},
   "outputs": [
    {
     "name": "stdout",
     "output_type": "stream",
     "text": [
      "v1 shape: [4, 2]\n",
      "v2 shape: [4, 10]\n",
      "v3 shape: [4, 12]\n",
      "v1: [[0. 2.]\n",
      " [0. 2.]\n",
      " [0. 2.]\n",
      " [0. 2.]]\n",
      "v2: [[ 0.03725886 -0.04974178  0.05874137 -0.03631894 -0.07612269 -0.06513395\n",
      "   0.0550221  -0.03387212 -0.05819836 -0.00593839]\n",
      " [ 0.04789885  0.02594811  0.06986267 -0.05396718 -0.05740303 -0.00773607\n",
      "   0.05224996  0.06423826  0.07566387  0.0620318 ]\n",
      " [ 0.03725886 -0.04974178  0.05874137 -0.03631894 -0.07612269 -0.06513395\n",
      "   0.0550221  -0.03387212 -0.05819836 -0.00593839]\n",
      " [ 0.02420689  0.05710719  0.07322019  0.06378414 -0.06661127 -0.00470754\n",
      "  -0.03304504 -0.04493327 -0.02838157 -0.06198477]]\n",
      "v3: [[ 2.7611315e-02  5.6142360e-03 -1.9727867e-02 -3.2069616e-02\n",
      "   2.3613803e-02 -4.1444238e-02  7.5172655e-02 -8.9154765e-03\n",
      "   7.3011778e-02  5.3057693e-02  0.0000000e+00  2.0000000e+00]\n",
      " [-6.7851938e-02 -5.4922722e-02  7.2742201e-02 -2.7516920e-02\n",
      "   2.6176251e-02  2.2736728e-02  7.2202675e-02 -7.1903072e-02\n",
      "   1.6700231e-02 -1.8034633e-02  0.0000000e+00  2.0000000e+00]\n",
      " [ 2.7611315e-02  5.6142360e-03 -1.9727867e-02 -3.2069616e-02\n",
      "   2.3613803e-02 -4.1444238e-02  7.5172655e-02 -8.9154765e-03\n",
      "   7.3011778e-02  5.3057693e-02  0.0000000e+00  2.0000000e+00]\n",
      " [-8.3844811e-03  4.6639457e-02  1.4886931e-03 -2.3518614e-02\n",
      "  -7.0847765e-02  4.2954192e-02  6.1141752e-02 -4.4003233e-02\n",
      "   2.5427639e-02  7.0269428e-02  0.0000000e+00  2.0000000e+00]]\n"
     ]
    }
   ],
   "source": [
    "# 1）测试 layers.input_from_feature_columns  \n",
    "# ref link: https://zhuanlan.zhihu.com/p/393327229\n",
    "\n",
    "import tensorflow as tf\n",
    "from tensorflow.contrib import layers\n",
    "from tensorflow.contrib.layers.python.layers.feature_column import _EmbeddingColumn \n",
    "from tensorflow.contrib.layers.python.layers import initializers\n",
    "\n",
    "from collections import OrderedDict\n",
    "import numpy as np\n",
    "import json\n",
    "\n",
    "# dense feature ====================================================================== #\n",
    "# ops\n",
    "discount_rate_column = layers.real_valued_column(\n",
    "\t\tcolumn_name=str('discount_rate'),\n",
    "\t\tdimension=1,\n",
    "\t\tdefault_value=0.0\n",
    "\t)\n",
    "\n",
    "cvr_column = layers.real_valued_column(\n",
    "\t\tcolumn_name=str('cvr'),\n",
    "\t\tdimension=1,\n",
    "\t\tdefault_value=0.0\n",
    "\t\t)\t\n",
    "\n",
    "rating_column = layers.real_valued_column(\n",
    "\t\tcolumn_name=str('rating'),\n",
    "\t\tdimension=1,\n",
    "\t\tdefault_value=0.0\n",
    "\t\t)\n",
    "# concat ops\n",
    "real_value_feature_column = [discount_rate_column, rating_column]\n",
    "\n",
    "# sparse feature ====================================================================== #\n",
    "# ops\n",
    "embedding_hash_column = layers.sparse_column_with_hash_bucket(\n",
    "                column_name=str('refer_type'),\n",
    "                hash_bucket_size=1000\n",
    "                )\n",
    "embedding_column = _EmbeddingColumn(embedding_hash_column, \n",
    "\t\t\t\tdimension=10, \n",
    "\t\t\t\tcombiner='mean', \n",
    "\t\t\t\tmax_norm=None,\n",
    "\t\t\t\tinitializer=initializers.xavier_initializer()\n",
    "                )\n",
    "# concat ops\n",
    "embedding_feature_column = [embedding_column]\n",
    "\n",
    "# ======== hyper ops ============================================================== #\n",
    "hyper_feature_column = [discount_rate_column, rating_column, embedding_column]\n",
    "\n",
    "# ======== 真实输入数据 + ops (input_from_feature_columns) ========================== #\n",
    "# for dense \n",
    "t1 = tf.Variable(tf.zeros([4,1]), dtype=tf.float32)\n",
    "t2 = tf.Variable(tf.ones([4,1]), dtype=tf.float32)\n",
    "t3 = tf.Variable(2*tf.ones([4,1]), dtype=tf.float32)\n",
    "fg_real_value_dict = {'discount_rate':t1, 'cvr':t2, 'rating':t3}\n",
    "#\n",
    "input_layer_real_value = layers.input_from_feature_columns(fg_real_value_dict, real_value_feature_column)\n",
    "\n",
    "# for sparse\n",
    "refer_type_column = tf.SparseTensor(indices=tf.constant([[0,0],[1,0],[2,0],[3,0]],dtype=tf.int64), \n",
    "\t\tvalues=tf.constant(['R','B','R','G'],dtype=tf.string), dense_shape=tf.constant([4,2], dtype=tf.int64))\n",
    "fg_embedding_dict = {'refer_type':refer_type_column}\n",
    "#\n",
    "input_layer_sparse_embedding = layers.input_from_feature_columns(fg_embedding_dict, embedding_feature_column)\n",
    "\n",
    "# for hyper\n",
    "hyper_fg_features_dict = {'discount_rate':t1, 'cvr':t2, 'rating':t3, 'refer_type':refer_type_column}\n",
    "#\n",
    "input_layer_features_emb = layers.input_from_feature_columns(hyper_fg_features_dict, hyper_feature_column)\n",
    "\n",
    "# ======= run ops + 测试效果 ======= #\n",
    "with tf.Session() as sess:\n",
    "    tf.global_variables_initializer().run()\n",
    "    #\n",
    "    prt_v1 = sess.run(input_layer_real_value)\n",
    "    prt_v2 = sess.run(input_layer_sparse_embedding)\n",
    "    prt_v3 = sess.run(input_layer_features_emb)\n",
    "    #\n",
    "    print(\"v1 shape:\", input_layer_real_value.get_shape().as_list())\n",
    "    print(\"v2 shape:\", input_layer_sparse_embedding.get_shape().as_list())\n",
    "    print(\"v3 shape:\", input_layer_features_emb.get_shape().as_list()) # 12 = (1+1) + (10), 2个dense + 1个sparse_emb\n",
    "    print(\"v1:\", prt_v1)\n",
    "    print(\"v2:\", prt_v2)\n",
    "    print(\"v3:\", prt_v3)"
   ]
  },
  {
   "cell_type": "code",
   "execution_count": 2,
   "metadata": {},
   "outputs": [
    {
     "name": "stdout",
     "output_type": "stream",
     "text": [
      "a:  [ 7 19]\n",
      "a1:  [ 7 19  7 19  7 19]\n",
      "b:  [[4 5]\n",
      " [3 5]]\n",
      "b1:  [[4 5 4 5 4 5]\n",
      " [3 5 3 5 3 5]\n",
      " [4 5 4 5 4 5]\n",
      " [3 5 3 5 3 5]]\n"
     ]
    }
   ],
   "source": [
    "# 2）测试tf.tile\n",
    "import tensorflow as tf\n",
    "a = tf.constant([7,19])\n",
    "a1 = tf.tile(a, multiples=[3]) # 第一个维度复制3遍, (1,2)=>(1,6)\n",
    "b = tf.constant([[4,5], [3,5]])\n",
    "b1 = tf.tile(b, multiples=[2,3]) # 第一个维度复制2遍，第二个维度复制3遍, (2,2)=>(4,6)\n",
    "\n",
    "with tf.Session() as sess:\n",
    "    a_out = sess.run(a)\n",
    "    a1_out = sess.run(a1)\n",
    "    b_out = sess.run(b)\n",
    "    b1_out = sess.run(b1)\n",
    "    print(\"a: \", a_out)\n",
    "    print(\"a1: \", a1_out)\n",
    "    print(\"b: \", b_out)\n",
    "    print(\"b1: \", b1_out)"
   ]
  },
  {
   "cell_type": "code",
   "execution_count": 5,
   "metadata": {},
   "outputs": [
    {
     "name": "stdout",
     "output_type": "stream",
     "text": [
      "e1~e6: \n",
      "[1, 2] \n",
      "[2, 1] \n",
      "[2, 1] \n",
      "[1, 2, 3, 5] \n",
      "[2, 3, 1, 5] \n",
      "[2, 3, 5, 1]\n"
     ]
    }
   ],
   "source": [
    "# 3) 测试 tf.expand_dims\n",
    "import tensorflow as tf\n",
    "\n",
    "t = tf.constant([7,19]) #shape: (2,)\n",
    "e1 = tf.expand_dims(t,0).shape.as_list() # (1,2) # 第0维扩展\n",
    "e2 = tf.expand_dims(t,1).shape.as_list() # (2,1) # 第1维扩展\n",
    "e3 = tf.expand_dims(t,-1).shape.as_list() # (2,1)\n",
    "\n",
    "t2 = tf.Variable(tf.ones([2,3,5], dtype=tf.float32)) #shape: (2,3,5)\n",
    "e4 = tf.expand_dims(t2,0).shape.as_list() # (1,2,3,5) \n",
    "e5 = tf.expand_dims(t2,2).shape.as_list() # (2,3,1,5) \n",
    "e6 = tf.expand_dims(t2,3).shape.as_list() # (2,3,5,1)\n",
    "\n",
    "print(\"e1~e6: \\n{} \\n{} \\n{} \\n{} \\n{} \\n{}\".format(e1, e2, e3, e4, e5, e6))"
   ]
  },
  {
   "cell_type": "code",
   "execution_count": 6,
   "metadata": {},
   "outputs": [
    {
     "name": "stdout",
     "output_type": "stream",
     "text": [
      "s0~s2: \n",
      "[1, 2, 1, 3, 1, 1] \n",
      "[2, 3] \n",
      "[1, 2, 3, 1]\n"
     ]
    }
   ],
   "source": [
    "# 测试 tf.squeeze\n",
    "import tensorflow as tf \n",
    "\n",
    "t = tf.Variable(tf.ones([1,2,1,3,1,1]), dtype=tf.float32)\n",
    "s0 = t.shape.as_list() # (1,2,1,3,1,1)\n",
    "s1 = tf.squeeze(t).shape.as_list() # 去除所有维度的冗余dim => (2,3)\n",
    "s2 = tf.squeeze(t, [2,4]).shape.as_list() # 去除2和4维度的1 => (1,2,3,1)\n",
    "\n",
    "print(\"s0~s2: \\n{} \\n{} \\n{}\".format(s0, s1, s2))"
   ]
  }
 ],
 "metadata": {
  "kernelspec": {
   "display_name": "py310",
   "language": "python",
   "name": "python3"
  },
  "language_info": {
   "codemirror_mode": {
    "name": "ipython",
    "version": 3
   },
   "file_extension": ".py",
   "mimetype": "text/x-python",
   "name": "python",
   "nbconvert_exporter": "python",
   "pygments_lexer": "ipython3",
   "version": "3.6.13"
  },
  "orig_nbformat": 4
 },
 "nbformat": 4,
 "nbformat_minor": 2
}
