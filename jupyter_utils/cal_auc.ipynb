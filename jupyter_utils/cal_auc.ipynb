{
 "cells": [
  {
   "cell_type": "code",
   "execution_count": 8,
   "metadata": {},
   "outputs": [
    {
     "name": "stdout",
     "output_type": "stream",
     "text": [
      "sklearn, auc:  0.7916666666666667\n",
      "sklearn, auc:  0.7916666666666667\n"
     ]
    },
    {
     "data": {
      "image/png": "[encoded data removed]",
      "text/plain": [
       "<Figure size 432x288 with 1 Axes>"
      ]
     },
     "metadata": {
      "needs_background": "light"
     },
     "output_type": "display_data"
    }
   ],
   "source": [
    "# ref link: \n",
    "# - https://www.zhihu.com/tardis/zm/art/500806744?source_id=1005\n",
    "# - https://zhuanlan.zhihu.com/p/360765777\n",
    "#--------------------------------------------------------------------- #\n",
    "\n",
    "# 1）sklearn的标准答案\n",
    "import numpy as np\n",
    "from sklearn import metrics\n",
    "from sklearn.metrics import roc_auc_score\n",
    "\n",
    "##给定的真实y 和 预测y_pred\n",
    "y_true = np.array([1, 0, 0, 0, 1,0, 1,0,0, 1])\n",
    "y_pred = np.array([0.9, 0.4, 0.3, 0.1, 0.35, 0.6, 0.65, 0.32, 0.8, 0.7])\n",
    "\n",
    "fpr, tpr, thresholds = metrics.roc_curve(y_true, y_pred, pos_label=1)\n",
    "print(\"sklearn, auc: \", metrics.auc(fpr, tpr))\n",
    "print(\"sklearn, auc: \", roc_auc_score(y_true, y_pred))\n",
    "\n",
    "\n",
    "# ------- 绘制下上述AUC的曲线\n",
    "import matplotlib.pyplot as plt\n",
    "plt.plot(fpr,tpr)\n",
    "plt.ylabel('True Positive Rate')\n",
    "plt.xlabel('False Positive Rate')\n",
    "plt.show()"
   ]
  },
  {
   "cell_type": "code",
   "execution_count": 6,
   "metadata": {},
   "outputs": [
    {
     "name": "stdout",
     "output_type": "stream",
     "text": [
      "AUC =  0.7916666666666666\n"
     ]
    }
   ],
   "source": [
    "# 2) 暴力穷举法：AUC = 正样本排在负样本前面 = cnt(正>负) / cnt_all_pair，两重for循环 o(n2)\n",
    "import numpy as np\n",
    "from sklearn import metrics\n",
    "\n",
    "##给定的真实y 和 预测y_pred\n",
    "y_true    = np.array([1,   0,   0,   0,   1,    0,   1,    0,    0,   1  ])\n",
    "y_pred = np.array([0.9, 0.4, 0.3, 0.1, 0.35, 0.6, 0.65, 0.32, 0.8, 0.7])\n",
    "\n",
    "numerator = 0    #分子\n",
    "denominator = 0  #分母\n",
    "\n",
    "for i in range(0, len(y_true)-1):\n",
    "    for j in range(i, len(y_true)):\n",
    "        if y_true[i] != y_true[j]: # 待比较两个元素则跳过计算，当且仅当不同时才计算\n",
    "            denominator += 1\n",
    "            #统计所有正负样本对中，模型把相对位置排序正确的数量\n",
    "            if(y_true[i]>y_true[j] and y_pred[i]>y_pred[j]) or (y_true[i]<y_true[j] and y_pred[i]<y_pred[j]):\n",
    "                numerator += 1\n",
    "\n",
    "print(\"AUC = \" , numerator/denominator)"
   ]
  },
  {
   "cell_type": "code",
   "execution_count": 10,
   "metadata": {},
   "outputs": [
    {
     "name": "stdout",
     "output_type": "stream",
     "text": [
      "AUC =  0.7916666666666666\n"
     ]
    }
   ],
   "source": [
    "# 3) 先排序，然后基于公式计算，时间复杂度为o(nlogn)。原理参考 https://zhuanlan.zhihu.com/p/545077644 和 https://zhuanlan.zhihu.com/p/360765777\n",
    "# 当前版本基于pandas实现\n",
    "import numpy as np\n",
    "import pandas as pd \n",
    "\n",
    "##给定的真实y 和 预测y_pred\n",
    "y_true = np.array([1,   0,   0,   0,   1,    0,   1,    0,    0,   1  ])\n",
    "y_pred = np.array([0.9, 0.4, 0.3, 0.1, 0.35, 0.6, 0.65, 0.32, 0.8, 0.7])\n",
    "\n",
    "def cal_auc(y_true, y_pred):\n",
    "    pair = list(zip(y_true, y_pred))\n",
    "    pair = sorted(pair, key=lambda x: x[1]) # 依据y_pred正排序\n",
    "    df = pd.DataFrame([[x[0], x[1], i+1] for i,x in enumerate(pair)], columns=['y_true', 'y_pred', 'rank'])\n",
    "    # 将pred相同的item的rank设置为均值, 重新编序\n",
    "    for k,v in df.y_pred.value_counts().items(): #(value, counts)\n",
    "        if v==1: continue # pred仅出现一次的跳过\n",
    "\n",
    "        rank_mean = df[df.y_pred==k]['rank'].mean() # pred相同的item,求这些item的rank的均值\n",
    "        df.loc[df.y_pred==k, 'rank'] = rank_mean # 设置成均值\n",
    "    # \n",
    "    df_pos = df[df.y_true==1] # 正样本构成的list\n",
    "    M = df_pos.shape[0] # 正样本个数\n",
    "    N = df.shape[0] - M # 负样本个数\n",
    "    sigma_rank_pos = df_pos['rank'].sum()\n",
    "    #\n",
    "    numerator = sigma_rank_pos - (M*(M+1))/2    # 分子\n",
    "    denominator = M * N #  分母\n",
    "    auc = numerator / denominator \n",
    "\n",
    "    return auc\n",
    "\n",
    "print(\"AUC = \" , cal_auc(y_true, y_pred))"
   ]
  }
 ],
 "metadata": {
  "kernelspec": {
   "display_name": "py36",
   "language": "python",
   "name": "python3"
  },
  "language_info": {
   "codemirror_mode": {
    "name": "ipython",
    "version": 3
   },
   "file_extension": ".py",
   "mimetype": "text/x-python",
   "name": "python",
   "nbconvert_exporter": "python",
   "pygments_lexer": "ipython3",
   "version": "3.6.13"
  },
  "orig_nbformat": 4
 },
 "nbformat": 4,
 "nbformat_minor": 2
}
