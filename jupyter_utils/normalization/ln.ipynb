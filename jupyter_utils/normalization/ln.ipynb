{
 "cells": [
  {
   "cell_type": "code",
   "execution_count": 1,
   "metadata": {},
   "outputs": [],
   "source": [
    "# ref: https://github.com/shenweichen/DeepCTR/blob/master/deepctr/layers/normalization.py#L18\n",
    "\n",
    "# 基于keras定义\n",
    "\n",
    "from tensorflow.python.keras import backend as K\n",
    "from tensorflow.python.keras.layers import Layer\n",
    "\n",
    "try:\n",
    "    from tensorflow.python.ops.init_ops import Zeros, Ones\n",
    "except ImportError:\n",
    "    from tensorflow.python.ops.init_ops_v2 import Zeros, Ones\n",
    "\n",
    "\n",
    "class LayerNormalization(Layer):\n",
    "    def __init__(self, axis=-1, eps=1e-9, center=True,\n",
    "                 scale=True, **kwargs):\n",
    "        self.axis = axis\n",
    "        self.eps = eps\n",
    "        self.center = center\n",
    "        self.scale = scale\n",
    "        super(LayerNormalization, self).__init__(**kwargs)\n",
    "\n",
    "    def build(self, input_shape):\n",
    "        self.gamma = self.add_weight(name='gamma', shape=input_shape[-1:],\n",
    "                                     initializer=Ones(), trainable=True)\n",
    "        self.beta = self.add_weight(name='beta', shape=input_shape[-1:],\n",
    "                                    initializer=Zeros(), trainable=True)\n",
    "        super(LayerNormalization, self).build(input_shape)\n",
    "\n",
    "    def call(self, inputs):\n",
    "        mean = K.mean(inputs, axis=self.axis, keepdims=True)\n",
    "        variance = K.mean(K.square(inputs - mean), axis=-1, keepdims=True)\n",
    "        std = K.sqrt(variance + self.eps)\n",
    "        outputs = (inputs - mean) / std\n",
    "        if self.scale:\n",
    "            outputs *= self.gamma\n",
    "        if self.center:\n",
    "            outputs += self.beta\n",
    "        return outputs\n",
    "\n",
    "    def compute_output_shape(self, input_shape):\n",
    "        return input_shape\n",
    "\n",
    "    def get_config(self, ):\n",
    "        config = {'axis': self.axis, 'eps': self.eps, 'center': self.center, 'scale': self.scale}\n",
    "        base_config = super(LayerNormalization, self).get_config()\n",
    "        return dict(list(base_config.items()) + list(config.items()))"
   ]
  },
  {
   "cell_type": "code",
   "execution_count": null,
   "metadata": {},
   "outputs": [],
   "source": [
    "# 测试上述LN TODO"
   ]
  }
 ],
 "metadata": {
  "kernelspec": {
   "display_name": "py36",
   "language": "python",
   "name": "python3"
  },
  "language_info": {
   "codemirror_mode": {
    "name": "ipython",
    "version": 3
   },
   "file_extension": ".py",
   "mimetype": "text/x-python",
   "name": "python",
   "nbconvert_exporter": "python",
   "pygments_lexer": "ipython3",
   "version": "3.6.13"
  },
  "orig_nbformat": 4
 },
 "nbformat": 4,
 "nbformat_minor": 2
}
